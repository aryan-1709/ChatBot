{
 "cells": [
  {
   "cell_type": "code",
   "execution_count": null,
   "id": "11a1ca85-1ac3-477e-999a-2c686aa48db6",
   "metadata": {},
   "outputs": [],
   "source": [
    "# required modules \n",
    "import random \n",
    "import json \n",
    "import pickle \n",
    "import numpy as np \n",
    "import nltk \n",
    "from keras.models import load_model \n",
    "from nltk.stem import WordNetLemmatizer \n",
    "from datetime import datetime\n",
    "now = datetime.now()"
   ]
  },
  {
   "cell_type": "code",
   "execution_count": null,
   "id": "41f2df9b-bbd1-47a9-97b5-053d012c2f9f",
   "metadata": {},
   "outputs": [],
   "source": [
    "lemmatizer = WordNetLemmatizer() \n",
    "  \n",
    "# loading the files we made previously \n",
    "intents = json.loads(open(\"intents/intents.json\").read()) \n",
    "words = pickle.load(open('words.pkl', 'rb'))\n",
    "#print(words)\n",
    "classes = pickle.load(open('classes.pkl', 'rb')) \n",
    "model = load_model('chatbotmodel.h5') "
   ]
  },
  {
   "cell_type": "markdown",
   "id": "ad539cb6-10c1-435f-9e70-ee78682dc332",
   "metadata": {},
   "source": [
    "This cell finds the output of any arithematic equation  "
   ]
  },
  {
   "cell_type": "code",
   "execution_count": null,
   "id": "38ac5eb7-3b43-4600-b373-59a4279727fc",
   "metadata": {},
   "outputs": [],
   "source": [
    "import ast\n",
    "\n",
    "def calculate_expression(expression):\n",
    "    try:\n",
    "        # Parse the expression\n",
    "        parsed_expr = ast.parse(expression, mode='eval')\n",
    "        # Evaluate the parsed expression\n",
    "        result = eval(compile(parsed_expr, '<string>', 'eval'))\n",
    "        return result\n",
    "    except Exception as e:\n",
    "        return f\"Error: {e}\""
   ]
  },
  {
   "cell_type": "markdown",
   "id": "540ff887-233c-4a06-8cd5-205445fa85b5",
   "metadata": {},
   "source": [
    "This cell recognizes the keywords related to real time or calculation and return the output"
   ]
  },
  {
   "cell_type": "code",
   "execution_count": null,
   "id": "bc3758a8-2fb1-4ce8-8c16-94c0830ffd5c",
   "metadata": {},
   "outputs": [],
   "source": [
    "def genral_question(intent, s):\n",
    "    #print(intent)\n",
    "    if(intent == 'date'):\n",
    "        return datetime.today()\n",
    "    \n",
    "    elif(intent == 'time'):\n",
    "        return now.strftime(\"%H:%M:%S\")\n",
    "    \n",
    "    elif(intent == 'weekday'):\n",
    "        return now.weekday()\n",
    "    \n",
    "    elif(intent == 'calculation'):\n",
    "        for i in range(len(s)):\n",
    "            if(s[i] == '-' or s[i].isnumeric()):\n",
    "                return calculate_expression(s[i:])\n",
    "    else:\n",
    "        return \" \"\n",
    "    "
   ]
  },
  {
   "cell_type": "markdown",
   "id": "be78472b-7edc-4c0a-bf66-fc35e23ad44b",
   "metadata": {},
   "source": [
    "This cell coverts the message to the updated message which does not contains any dulicates and not having the grammar involved"
   ]
  },
  {
   "cell_type": "code",
   "execution_count": null,
   "id": "84570d59-57dc-4276-abae-13dd357b86b9",
   "metadata": {},
   "outputs": [],
   "source": [
    "def clean_up_sentences(sentence): \n",
    "    sentence_words = nltk.word_tokenize(sentence) \n",
    "    sentence_words = [lemmatizer.lemmatize(word)  \n",
    "                      for word in sentence_words] \n",
    "    return sentence_words "
   ]
  },
  {
   "cell_type": "markdown",
   "id": "f16d87cc-5632-41e8-a8e9-2fc0de631b79",
   "metadata": {},
   "source": [
    "This cell finds the words present in the message and finds the words which are present in the intents and mark it as 1"
   ]
  },
  {
   "cell_type": "code",
   "execution_count": null,
   "id": "d093c25c-ee50-4705-9359-3adb9d45dc01",
   "metadata": {},
   "outputs": [],
   "source": [
    "def bagw(sentence): \n",
    "    sentence = sentence.lower()\n",
    "    # separate out words from the input sentence \n",
    "    sentence_words = clean_up_sentences(sentence) \n",
    "    bag = [0]*len(words) \n",
    "    for w in sentence_words: \n",
    "        for i, word in enumerate(words): \n",
    "  \n",
    "            # check whether the word \n",
    "            # is present in the input as well \n",
    "            if word == w: \n",
    "  \n",
    "                # as the list of words \n",
    "                # created earlier. \n",
    "                bag[i] = 1\n",
    "  \n",
    "    # return a numpy array \n",
    "    return np.array(bag) "
   ]
  },
  {
   "cell_type": "markdown",
   "id": "1fb885ee-b73b-4a80-be6b-0453fafd67a2",
   "metadata": {},
   "source": [
    "This cell predicts the class for the message given by the user "
   ]
  },
  {
   "cell_type": "code",
   "execution_count": null,
   "id": "b22581b1-15ad-418a-b14c-9b551b9bf287",
   "metadata": {},
   "outputs": [],
   "source": [
    "def predict_class(sentence): \n",
    "    bow = bagw(sentence) \n",
    "    res = model.predict(np.array([bow]))[0]\n",
    "    ERROR_THRESHOLD = 0.25\n",
    "    results = [[i, r] for i, r in enumerate(res)  \n",
    "               if r > ERROR_THRESHOLD] \n",
    "    results.sort(key=lambda x: x[1], reverse=True) \n",
    "    return_list = [] \n",
    "    for r in results: \n",
    "        return_list.append({'intent': classes[r[0]], 'probability': str(r[1])}) \n",
    "    \n",
    "    return return_list "
   ]
  },
  {
   "cell_type": "markdown",
   "id": "8cdd0bb0-55bd-4c5f-aaaa-67529f81f1f6",
   "metadata": {},
   "source": [
    "This cell return the responce to the user after finding the best suitable answer from the model"
   ]
  },
  {
   "cell_type": "code",
   "execution_count": null,
   "id": "ab2af6ec-feac-4ca3-9645-75c67d23d47d",
   "metadata": {},
   "outputs": [],
   "source": [
    "def get_response(intents_list, intents_json): \n",
    "    tag = intents_list[0]['intent'] \n",
    "    list_of_intents = intents_json['intents'] \n",
    "    result = \"I can't undersatnd!\" \n",
    "    for i in list_of_intents: \n",
    "        if i['tag'] == tag: \n",
    "            result = random.choice(i['responses']) \n",
    "            break\n",
    "    return result \n",
    "\n",
    "print(\"Chatbot is up!\") "
   ]
  },
  {
   "cell_type": "code",
   "execution_count": null,
   "id": "4d59a479-609c-4b7a-b138-c50749ea7dfe",
   "metadata": {},
   "outputs": [],
   "source": [
    "while True: \n",
    "    message = input(\"\") \n",
    "    if(message == 'exit'):\n",
    "        break\n",
    "    ints = predict_class(message) \n",
    "    res = get_response(ints, intents) \n",
    "    res += str(genral_question(ints[0]['intent'], message))\n",
    "    print(res)"
   ]
  }
 ],
 "metadata": {
  "kernelspec": {
   "display_name": "Python 3 (ipykernel)",
   "language": "python",
   "name": "python3"
  },
  "language_info": {
   "codemirror_mode": {
    "name": "ipython",
    "version": 3
   },
   "file_extension": ".py",
   "mimetype": "text/x-python",
   "name": "python",
   "nbconvert_exporter": "python",
   "pygments_lexer": "ipython3",
   "version": "3.12.2"
  }
 },
 "nbformat": 4,
 "nbformat_minor": 5
}
