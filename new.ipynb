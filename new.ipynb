{
 "cells": [
  {
   "cell_type": "code",
   "execution_count": null,
   "id": "0b57d53d-11f7-4709-b7cd-87a932516900",
   "metadata": {},
   "outputs": [],
   "source": [
    "import json\n",
    "import numpy as np\n",
    "import tensorflow as tf\n",
    "import pickle\n",
    "import random\n",
    "import nltk\n",
    "from nltk.stem import WordNetLemmatizer\n",
    "lemmatizer =  WordNetLemmatizer()"
   ]
  },
  {
   "cell_type": "code",
   "execution_count": null,
   "id": "a3f624d9-7a7b-496b-84c8-df1faab202a1",
   "metadata": {},
   "outputs": [],
   "source": [
    "words = []\n",
    "classes = [] \n",
    "documents = []\n",
    "ignoreLetters = ['?','!','.',',']"
   ]
  },
  {
   "cell_type": "code",
   "execution_count": null,
   "id": "74ffb7c8-e442-4b5f-b986-a1e28f9820c8",
   "metadata": {},
   "outputs": [],
   "source": [
    "intents = json.loads(open('intents/intents.json').read())"
   ]
  },
  {
   "cell_type": "code",
   "execution_count": null,
   "id": "7e8110d7-30d9-4483-b49a-d852455d2aee",
   "metadata": {},
   "outputs": [],
   "source": [
    "for intent in intents['intents']:\n",
    "    for pattern in intent['patterns']:\n",
    "        wordList = nltk.word_tokenize(pattern)\n",
    "        words.extend(wordList)\n",
    "        documents.append((wordList, intent['tag']))\n",
    "        if intent['tag'] not in classes:\n",
    "            classes.append(intent['tag'])\n",
    "\n",
    "words = [lemmatizer.lemmatize(word) for word in words if word not in ignoreLetters]\n",
    "\n",
    "words = sorted(set(classes))\n",
    "classes = sorted(set(classes))\n",
    "pickle.dump(words, open('words.pkl', 'wb'))\n",
    "pickle.dump(classes, open('classes.pkl', 'wb'))"
   ]
  },
  {
   "cell_type": "code",
   "execution_count": null,
   "id": "334c63b5-c591-4117-b288-6b2165eed790",
   "metadata": {},
   "outputs": [],
   "source": [
    "training = []\n",
    "outputEmpty = [0] * len(classes)\n",
    "\n",
    "for document in documents:\n",
    "    bag = []\n",
    "    wordPatterns = document[0]\n",
    "    wordPatterns = [lemmatizer.lemmatize(word.lower()) for word in wordPatterns]\n",
    "    for word in words:\n",
    "        bag.append(1) if word in wordPatterns else bag.append(0)\n",
    "\n",
    "    outputRow = list(outputEmpty)\n",
    "    outputRow[classes.index(document[1])] = 1\n",
    "    training.append(bag + outputRow)\n",
    "\n",
    "random.shuffle(training)\n",
    "training = np.array(training)\n",
    "\n",
    "trainX = training[:, :len(words)]\n",
    "trainY = training[:, len(words):]\n",
    "\n",
    "model = tf.keras.Sequential()\n",
    "model.add(tf.keras.layers.Dense(512, input_shape=(len(trainX[0]),), activation = 'relu'))\n",
    "model.add(tf.keras.layers.Dropout(0.5))\n",
    "model.add(tf.keras.layers.Dense(128, activation = 'relu'))\n",
    "model.add(tf.keras.layers.Dropout(0.5))\n",
    "model.add(tf.keras.layers.Dense(len(trainY[0]), activation='softmax'))\n",
    "\n",
    "sgd = tf.keras.optimizers.SGD(learning_rate=0.01, momentum=0.9, nesterov=True)\n",
    "model.compile(loss='categorical_crossentropy', optimizer=sgd, metrics=['accuracy'])\n",
    "hist = model.fit(np.array(trainX), np.array(trainY), epochs=200, batch_size=5, verbose=1, shuffle=True)\n",
    "model.save('chatbot_model.h5', hist)\n",
    "print('Done')"
   ]
  },
  {
   "cell_type": "code",
   "execution_count": null,
   "id": "1773413c-d411-42d4-9bbf-7487d7ec6def",
   "metadata": {},
   "outputs": [],
   "source": [
    "from sklearn.model_selection import train_test_split "
   ]
  },
  {
   "cell_type": "code",
   "execution_count": null,
   "id": "9ac4193a-fab6-45c7-a969-52d76f38e6f4",
   "metadata": {},
   "outputs": [],
   "source": [
    "messages = [\"Hey, let's not got the class today!\",\n",
    "           \"Call your Friend!\",\n",
    "           \"Want to go for the walk tomorrow?\"]"
   ]
  },
  {
   "cell_type": "code",
   "execution_count": null,
   "id": "a4b1b6ac-0ec1-4c3a-8034-7d7bce8cc799",
   "metadata": {},
   "outputs": [],
   "source": [
    "from sklearn.feature_extraction.text import CountVectorizer\n",
    "vect = CountVectorizer()"
   ]
  },
  {
   "cell_type": "code",
   "execution_count": null,
   "id": "004e322e-977e-43db-aab4-11d8902eaf79",
   "metadata": {},
   "outputs": [],
   "source": [
    "msg = vect.fit_transform(messages)\n",
    "vect.get_feature_names_out()"
   ]
  },
  {
   "cell_type": "code",
   "execution_count": null,
   "id": "be34b130-410e-43c7-a4a1-51a4ed0bea72",
   "metadata": {},
   "outputs": [],
   "source": [
    "print(msg.toarray())"
   ]
  },
  {
   "cell_type": "code",
   "execution_count": null,
   "id": "a27d28de-7989-4605-83af-e66175ba170e",
   "metadata": {},
   "outputs": [],
   "source": [
    "from sklearn.feature_extraction.text import TfidfVectorizer\n",
    "vect = TfidfVectorizer()\n",
    "dt = vect.fit_transform(messages)"
   ]
  },
  {
   "cell_type": "code",
   "execution_count": null,
   "id": "ac400c67-3cce-482d-9130-2871211acd5f",
   "metadata": {},
   "outputs": [],
   "source": [
    "print(dt)"
   ]
  }
 ],
 "metadata": {
  "kernelspec": {
   "display_name": "Python 3 (ipykernel)",
   "language": "python",
   "name": "python3"
  },
  "language_info": {
   "codemirror_mode": {
    "name": "ipython",
    "version": 3
   },
   "file_extension": ".py",
   "mimetype": "text/x-python",
   "name": "python",
   "nbconvert_exporter": "python",
   "pygments_lexer": "ipython3",
   "version": "3.12.2"
  }
 },
 "nbformat": 4,
 "nbformat_minor": 5
}
